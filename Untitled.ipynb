{
 "cells": [
  {
   "cell_type": "code",
   "execution_count": 1,
   "id": "142d9287-c441-4974-836d-184e7785c479",
   "metadata": {},
   "outputs": [
    {
     "name": "stdout",
     "output_type": "stream",
     "text": [
      "<class 'pandas.core.frame.DataFrame'>\n",
      "RangeIndex: 16588 entries, 0 to 16587\n",
      "Data columns (total 16 columns):\n",
      " #   Column                Non-Null Count  Dtype \n",
      "---  ------                --------------  ----- \n",
      " 0   Уровень               16588 non-null  object\n",
      " 1   Сайт                  16588 non-null  object\n",
      " 2   Адрес                 16588 non-null  object\n",
      " 3   Дата сайта            16588 non-null  object\n",
      " 4   Тип субъекта          691 non-null    object\n",
      " 5   Подведомственность    15301 non-null  object\n",
      " 6   Дата отзыва           16588 non-null  object\n",
      " 7   Тип отзыва            16588 non-null  object\n",
      " 8   Заголовок             16588 non-null  object\n",
      " 9   Сообщение             16585 non-null  object\n",
      " 10  Ответ                 15442 non-null  object\n",
      " 11  Куратор               14741 non-null  object\n",
      " 12  Решение куратора      14267 non-null  object\n",
      " 13  Дата ответа куратора  14741 non-null  object\n",
      " 14  Статус                16588 non-null  object\n",
      " 15  Оценка отзыва         565 non-null    object\n",
      "dtypes: object(16)\n",
      "memory usage: 2.0+ MB\n"
     ]
    }
   ],
   "source": [
    "import pandas as pd\n",
    "state_web_site_feedback = pd.read_csv(\"data-20150923t1145-structure-20150923t1145_4.csv\")\n",
    "state_web_site_feedback.describe().T\n",
    "state_web_site_feedback.info()"
   ]
  },
  {
   "cell_type": "code",
   "execution_count": null,
   "id": "50133725-c0b8-488f-ae87-d1c7e720ab0c",
   "metadata": {},
   "outputs": [],
   "source": []
  }
 ],
 "metadata": {
  "kernelspec": {
   "display_name": "Python 3 (ipykernel)",
   "language": "python",
   "name": "python3"
  },
  "language_info": {
   "codemirror_mode": {
    "name": "ipython",
    "version": 3
   },
   "file_extension": ".py",
   "mimetype": "text/x-python",
   "name": "python",
   "nbconvert_exporter": "python",
   "pygments_lexer": "ipython3",
   "version": "3.11.5"
  }
 },
 "nbformat": 4,
 "nbformat_minor": 5
}
